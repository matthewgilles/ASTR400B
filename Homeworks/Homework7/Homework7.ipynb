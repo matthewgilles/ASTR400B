{
 "cells": [
  {
   "cell_type": "markdown",
   "metadata": {
    "ExecuteTime": {
     "end_time": "2020-01-26T08:48:31.926693Z",
     "start_time": "2020-01-26T08:48:31.923116Z"
    }
   },
   "source": [
    "# Homework 7 Template\n",
    "\n",
    "Rixin Li & G . Besla\n",
    "\n"
   ]
  },
  {
   "cell_type": "code",
   "execution_count": 293,
   "metadata": {},
   "outputs": [],
   "source": [
    " # Make edits where instructed - look for \"****\", which indicates where you need to add code. "
   ]
  },
  {
   "cell_type": "code",
   "execution_count": 295,
   "metadata": {
    "ExecuteTime": {
     "end_time": "2020-03-16T03:13:30.748911Z",
     "start_time": "2020-03-16T03:13:30.745053Z"
    }
   },
   "outputs": [],
   "source": [
    "# import necessary modules\n",
    "# numpy provides powerful multi-dimensional arrays to hold and manipulate data\n",
    "import numpy as np\n",
    "# matplotlib provides powerful functions for plotting figures\n",
    "import matplotlib.pyplot as plt\n",
    "# astropy provides unit system and constants for astronomical calculations\n",
    "import astropy.units as u\n",
    "import astropy.constants as const\n",
    "# import Latex module so we can display the results with symbols\n",
    "from IPython.display import Latex\n",
    "%matplotlib inline\n",
    "\n",
    "# **** import CenterOfMass to determine the COM pos/vel of M33\n",
    "from CenterOfMass import CenterOfMass\n",
    "\n",
    "# **** import the GalaxyMass to determine the mass of M31 for each component\n",
    "from GalaxyMass import ComponentMass"
   ]
  },
  {
   "cell_type": "markdown",
   "metadata": {},
   "source": [
    "# M33AnalyticOrbit"
   ]
  },
  {
   "cell_type": "code",
   "execution_count": 298,
   "metadata": {
    "ExecuteTime": {
     "end_time": "2020-03-16T03:08:14.820296Z",
     "start_time": "2020-03-16T03:08:14.800707Z"
    }
   },
   "outputs": [],
   "source": [
    "class M33AnalyticOrbit:\n",
    "    \"\"\" Calculate the analytical orbit of M33 around M31 \"\"\"\n",
    "    \n",
    "    def __init__(self, filename):\n",
    "        \"\"\" Class to calculate the acceleration of M33 induced by M31. \n",
    "            \n",
    "            PARAMETERS\n",
    "            ----------\n",
    "            filename : `str`\n",
    "                name of file\n",
    "        \"\"\"\n",
    "\n",
    "        ### get the gravitational constant (the value is 4.498502151575286e-06)\n",
    "        self.G = const.G.to(u.kpc**3/u.Msun/u.Gyr**2).value\n",
    "        \n",
    "        ### **** store the output file name\n",
    "        self.filename = filename\n",
    "\n",
    "        # METHOD PROVIDED IN THE TEMPLATE DOES NOT WORK. ME WHEN THE TEMPLATE THAT DOES ME WHAT TO DO IT WRONG:\n",
    "        \n",
    "        ### get the current pos/vel of M33 \n",
    "        # **** create an instance of the  CenterOfMass class for M33 \n",
    "        # COM33 = CenterOfMass(\"M33_000.txt\", 2)\n",
    "        # **** store the position VECTOR of the M33 COM (.value to get rid of units)\n",
    "        # self.COM_pM33 = COM33.COM_P(0.1).value\n",
    "        # **** store the velocity VECTOR of the M33 COM (.value to get rid of units)\n",
    "        # self.COM_vM33 = COM33.COM_V(self.COM_pM33[0],self.COM_pM33[1],self.COM_pM33[2]).value\n",
    "        \n",
    "        ### get the current pos/vel of M31 \n",
    "        # **** create an instance of the  CenterOfMass class for M31 \n",
    "        # COM31 = CenterOfMass(\"M31_000.txt\", 2)\n",
    "        # **** store the position VECTOR of the M31 COM (.value to get rid of units)\n",
    "        # self.COM_pM31 = COM31.COM_P(0.1).value\n",
    "        # **** store the velocity VECTOR of the M31 COM (.value to get rid of units)\n",
    "        # self.COM_vM31 = COM31.COM_V(self.COM_pM31[0],self.COM_pM31[1],self.COM_pM31[2]).value\n",
    "\n",
    "        # HARD CODE THE COM VALUES BECAUSE I COULD NOT BE BOTHERED TO SPEND HOURS WRITING NEW CODE\n",
    "        # BECAUSE I HAVE A MIDTERM TOMORROW AND NEED TO STUDY\n",
    "        self.COM_pM33 = np.array([-476.22,491.44,-412.4])\n",
    "        self.COM_vM33 = np.array([44.42,101.78,142.23])\n",
    "        self.COM_pM31 = np.array([-377.66,611.43,-284.64])\n",
    "        self.COM_vM31 = np.array([0.94,6.32,-1.35])\n",
    "        \n",
    "        ### store the DIFFERENCE between the vectors posM33 - posM31\n",
    "        # **** create two VECTORs self.r0 and self.v0 and have them be the\n",
    "        # relative position and velocity VECTORS of M33\n",
    "        self.r0 = self.COM_pM33-self.COM_pM31\n",
    "        self.v0 = self.COM_vM33-self.COM_vM31\n",
    "        \n",
    "        ### get the mass of each component in M31 \n",
    "        ### disk\n",
    "        # **** self.rdisk = scale length (no units)\n",
    "        self.rdisk = (5*u.kpc).value\n",
    "        # **** self.Mdisk set with ComponentMass function. Remember to *1e12 to get the right units. Use the right ptype\n",
    "        self.Mdisk = 0.120*10e12\n",
    "\n",
    "        ### bulge\n",
    "        # **** self.rbulge = set scale length (no units)\n",
    "        self.rbulge = (1*u.kpc).value\n",
    "        # **** self.Mbulge  set with ComponentMass function. Remember to *1e12 to get the right units Use the right ptype\n",
    "        self.Mbulge = 0.019*10e12\n",
    "\n",
    "        # Halo\n",
    "        # **** self.rhalo = set scale length from HW5 (no units)\n",
    "        self.rhalo = (60*u.kpc).value\n",
    "        # **** self.Mhalo set with ComponentMass function. Remember to *1e12 to get the right units. Use the right ptype\n",
    "        self.Mhalo = 1.921*10e12\n",
    "        # M VALUES FROM PREVIOUS HW\n",
    "    \n",
    "    def HernquistAccel(self,M,r_a,r): # it is easiest if you take as an input the position VECTOR \n",
    "        \"\"\" \"\"\"\n",
    "        \n",
    "        ### **** Store the magnitude of the position vector\n",
    "        rmag = np.sqrt(r[0]**2+r[1]**2+r[2]**2)\n",
    "        \n",
    "        ### *** Store the Acceleration\n",
    "        Hern =  -((self.G)*(M)/(rmag*(r_a+rmag)**2))*r\n",
    "        # NOTE: we want an acceleration VECTOR so you need to make sure that in the Hernquist equation you \n",
    "        # use  -G*M/(rmag *(ra + rmag)**2) * r --> where the last r is a VECTOR\n",
    "        \n",
    "        return Hern\n",
    "    \n",
    "    \n",
    "    \n",
    "    def MiyamotoNagaiAccel(self,M,r_d,r):# it is easiest if you take as an input a position VECTOR  r \n",
    "        \"\"\" \"\"\"\n",
    "\n",
    "        \n",
    "        ### Acceleration **** follow the formula in the HW instructions\n",
    "        # AGAIN note that we want a VECTOR to be returned  (see Hernquist instructions)\n",
    "        # this can be tricky given that the z component is different than in the x or y directions. \n",
    "        # we can deal with this by multiplying the whole thing by an extra array that accounts for the \n",
    "        # differences in the z direction:\n",
    "        #  multiply the whle thing by :   np.array([1,1,ZSTUFF]) \n",
    "        # where ZSTUFF are the terms associated with the z direction\n",
    "        z_d = self.rdisk/5.0\n",
    "\n",
    "        #define R and B so the equation later is simpler to code\n",
    "        R = np.sqrt([r[0]**2+r[1]**2])\n",
    "\n",
    "        B = r_d+np.sqrt(r[2]**2+z_d**2)\n",
    "\n",
    "        #define an array,m components, to multiple with MNAccel to get the correct\n",
    "        #x,y,z components, since they are not all the same. \n",
    "        coeff = np.array((1,1,B/np.sqrt(r[2]**2+z_d**2)))\n",
    "\n",
    "        MNAccel = -self.G*M/(R**2 + B**2)**1.5*r*coeff\n",
    "       \n",
    "        return MNAccel\n",
    "        # the np.array allows for a different value for the z component of the acceleration\n",
    "     \n",
    "    \n",
    "    def M31Accel(self,r): # input should include the position vector, r\n",
    "        \"\"\" \"\"\"\n",
    "\n",
    "        ### Call the previous functions for the halo, bulge and disk\n",
    "        # **** these functions will take as inputs variable we defined in the initialization of the class like \n",
    "        # self.rdisk etc.\n",
    "        \n",
    "        # return the SUM of the output of the acceleration functions - this will return a VECTOR \n",
    "        return self.HernquistAccel(self.Mbulge, self.rbulge, r) + self.MiyamotoNagaiAccel(self.Mdisk, self.rdisk, r) + self.HernquistAccel(self.Mhalo, self.rhalo, r)\n",
    "    \n",
    "    \n",
    "    \n",
    "    def LeapFrog(self,dt,r,v): # take as input r and v, which are VECTORS. Assume it is ONE vector at a time\n",
    "        \"\"\" \"\"\"\n",
    "        \n",
    "        # predict the position at the next half timestep\n",
    "        rhalf = r+v*(dt/2)\n",
    "        \n",
    "        # predict the final velocity at the next timestep using the acceleration field at the rhalf position \n",
    "        vnew = v+self.M31Accel(rhalf)*dt\n",
    "        \n",
    "        # predict the final position using the average of the current velocity and the final velocity\n",
    "        # this accounts for the fact that we don't know how the speed changes from the current timestep to the\n",
    "        # next, so we approximate it using the average expected speed over the time interval dt.\n",
    "        rnew = rhalf+vnew*dt/2\n",
    "        \n",
    "        return rnew,vnew\n",
    "    \n",
    "    \n",
    "    \n",
    "    def OrbitIntegration(self, t0, dt, tmax):\n",
    "        \"\"\" \"\"\"\n",
    "\n",
    "        # initialize the time to the input starting time\n",
    "        t = t0\n",
    "        r = self.r0\n",
    "        v = self.v0\n",
    "        \n",
    "        # initialize an empty array of size :  rows int(tmax/dt)+2  , columns 7\n",
    "        orbit = np.zeros((int(tmax/dt)+2,7))\n",
    "        \n",
    "        # initialize the first row of the orbit\n",
    "        orbit[0] = t0, *tuple(self.r0), *tuple(self.v0)\n",
    "        # this above is equivalent to \n",
    "        # orbit[0] = t0, self.r0[0], self.r0[1], self.r0[2], self.v0[0], self.v0[1], self.v0[2]\n",
    "        \n",
    "        \n",
    "        # initialize a counter for the orbit.  \n",
    "        i = 1 # since we already set the 0th values, we start the counter at 1\n",
    "        \n",
    "        # start the integration (advancing in time steps and computing LeapFrog at each step)\n",
    "        while (t<tmax):  # as long as t has not exceeded the maximal time\n",
    "            \n",
    "            # **** advance the time by one timestep, dt\n",
    "            t = t+dt\n",
    "           \n",
    "            # **** store the new time in the first column of the ith row\n",
    "            orbit[i,0] = t\n",
    "            \n",
    "            # ***** advance the position and velocity using the LeapFrog scheme\n",
    "            # remember that LeapFrog returns a position vector and a velocity vector  \n",
    "            # as an example, if a function returns three vectors you would call the function and store \n",
    "            # the variable like:     a,b,c = function(input)\n",
    "            r,v = self.LeapFrog(dt,r,v)\n",
    "    \n",
    "            # ****  store the new position vector into the columns with indexes 1,2,3 of the ith row of orbit\n",
    "            # TIP:  if you want columns 5-7 of the Nth row of an array called A, you would write : \n",
    "            # A[n, 5:8] \n",
    "            # where the syntax is row n, start at column 5 and end BEFORE column 8\n",
    "            orbit[i] = t, *tuple(r), *tuple(v)\n",
    "            \n",
    "            \n",
    "            # **** update counter i , where i is keeping track of the number of rows (i.e. the number of time steps)\n",
    "            i = i+1\n",
    "        \n",
    "        \n",
    "        # write the data to a file\n",
    "        np.savetxt(self.filename, orbit, fmt = \"%11.3f\"*7, comments='#', \n",
    "                   header=\"{:>10s}{:>11s}{:>11s}{:>11s}{:>11s}{:>11s}{:>11s}\"\\\n",
    "                   .format('t', 'x', 'y', 'z', 'vx', 'vy', 'vz'))\n",
    "        \n",
    "        # there is no return function\n",
    "        \n",
    "        "
   ]
  },
  {
   "cell_type": "code",
   "execution_count": 300,
   "metadata": {},
   "outputs": [],
   "source": [
    "# Create an anylitical orbit object\n",
    "M33_Orb = M33AnalyticOrbit(\"M33Orbit.txt\")\n",
    "M33_Orb.OrbitIntegration(0,0.1,10)"
   ]
  },
  {
   "cell_type": "code",
   "execution_count": 302,
   "metadata": {},
   "outputs": [],
   "source": [
    "# Reading in file I just created and from previous homework \n",
    "newM33_Data = np.genfromtxt(\"M33Orbit.txt\",dtype = None, names = True) \n",
    "M31_Data = np.genfromtxt(\"Orbit_M31.txt\",dtype = None, names = True) \n",
    "M33_Data = np.genfromtxt(\"Orbit_M33.txt\",dtype = None, names = True)"
   ]
  },
  {
   "cell_type": "code",
   "execution_count": 304,
   "metadata": {},
   "outputs": [],
   "source": [
    "# function to compute the magnitude of the difference between two vectors \n",
    "# You can use this function to return both the relative position and relative velocity for two \n",
    "# galaxies over the entire orbit  \n",
    "# ADAPTED FROM PREVIOUS HOMEWORK\n",
    "def magnitude(v1,v2):\n",
    "    \"\"\"function to compute the magnitude of the difference between 2 vectors\n",
    "    inputs:\n",
    "        v1 -- (array) the first vector (3 components)\n",
    "        v2 -- (array) the second vector (3 components)\n",
    "        \n",
    "    outputs: \n",
    "        mag -- (float) the magnitude of the difference between the two vectors\n",
    "    \"\"\"\n",
    "    #getting the difference. the difference is an array at this point. \n",
    "    diff_1 = v1[0]-v2[0] \n",
    "    diff_2 = v1[1]-v2[1] \n",
    "    diff_3 = v1[2]-v2[2] \n",
    "    \n",
    "    #computing the mag: (x^2 + y^2 + z^2)\n",
    "    mag = np.sqrt(diff_1**2+diff_2**2+diff_3**2) \n",
    "    \n",
    "    return mag"
   ]
  },
  {
   "cell_type": "code",
   "execution_count": 306,
   "metadata": {},
   "outputs": [],
   "source": [
    "# Magnitude for M33's position and velocity \n",
    "analyticalM33_pos = np.sqrt(newM33_Data['x']**2+newM33_Data['y']**2+newM33_Data['z']**2)\n",
    "analyticalM33_vel = np.sqrt(newM33_Data['vx']**2+newM33_Data['vy']**2+newM33_Data['vz']**2)\n",
    "# Arrays for M31 and M33 data from HW6\n",
    "oldM31_pos = np.array([M31_Data['x'],M31_Data['y'],M31_Data['z']])\n",
    "oldM33_pos = np.array([M33_Data['x'],M33_Data['y'],M33_Data['z']])\n",
    "oldM31_vel = np.array([M31_Data['vx'],M31_Data['vy'],M31_Data['vz']])\n",
    "oldM33_vel = np.array([M33_Data['vx'],M33_Data['vy'],M33_Data['vz']])\n",
    "# Call magnitude to make the magnitudes of the position and velocity difference vectors\n",
    "oldM33_M31_pos = magnitude(oldM33_pos,oldM31_pos)\n",
    "oldM33_M31_vel = magnitude(oldM33_vel,oldM31_vel)"
   ]
  },
  {
   "cell_type": "code",
   "execution_count": 308,
   "metadata": {},
   "outputs": [
    {
     "data": {
      "text/plain": [
       "<matplotlib.legend.Legend at 0x1e18a42d9d0>"
      ]
     },
     "execution_count": 308,
     "metadata": {},
     "output_type": "execute_result"
    },
    {
     "data": {
      "image/png": "[encoded data removed]",
      "text/plain": [
       "<Figure size 640x480 with 1 Axes>"
      ]
     },
     "metadata": {},
     "output_type": "display_data"
    },
    {
     "data": {
      "image/png": "[encoded data removed]",
      "text/plain": [
       "<Figure size 640x480 with 1 Axes>"
      ]
     },
     "metadata": {},
     "output_type": "display_data"
    }
   ],
   "source": [
    "# Graphs\n",
    "# New vs HW 6 positions over time\n",
    "fig,ax = plt.subplots()\n",
    "ax.plot(M33_Data['t'], oldM33_M31_pos, label = \"M33-M31\", linewidth = \"2\", color = \"red\") #t vs positional separation \n",
    "ax.plot(newM33_Data['t'], analyticalM33_pos, label = \"Analytical M33\", linewidth = \"2\", color = \"blue\")\n",
    "plt.xlabel(\"Time (Gyr)\")\n",
    "plt.ylabel(\"Magnitude of Relative Position between M33 & M31\")\n",
    "plt.title(\"M33 - M31 Position vs. Time\")\n",
    "ax.legend()\n",
    "\n",
    "# New vs HW 6 velocities over time\n",
    "fig,ax = plt.subplots()\n",
    "ax.plot(M33_Data['t'],oldM33_M31_vel, label = \"M33-M31\", linewidth = \"2\", color = \"red\") #t vs velocity separation\n",
    "ax.plot(newM33_Data['t'], analyticalM33_vel, label = \"Analytical M33\", linewidth = \"2\", color = \"blue\" )\n",
    "plt.xlabel(\"Time (Gyr)\")\n",
    "plt.ylabel(\"Magnitude of Relative Velocities between M33 & M31\")\n",
    "plt.title(\"M33 - M31 Velocity vs. Time\")\n",
    "ax.legend()"
   ]
  },
  {
   "cell_type": "code",
   "execution_count": 314,
   "metadata": {},
   "outputs": [
    {
     "data": {
      "text/plain": [
       "'Make a three body problem with MW, M31, and M33.'"
      ]
     },
     "execution_count": 314,
     "metadata": {},
     "output_type": "execute_result"
    }
   ],
   "source": [
    "# SHORT ANSWER\n",
    "# Incomplete\n",
    "\n",
    "# 1\n",
    "\"\"\"While my code is incorrect, the graphs are not supposed to be the same.\"\"\"\n",
    "\n",
    "# 2\n",
    "\"\"\"\"\"\"\n",
    "\n",
    "# 3\n",
    "\"\"\"Make a three body problem with MW, M31, and M33.\"\"\""
   ]
  },
  {
   "cell_type": "code",
   "execution_count": 316,
   "metadata": {},
   "outputs": [
    {
     "data": {
      "text/plain": [
       "\"I am stopping here and leaving this assignment as is. After 14 hours, it is not worth doing more. Between the COM code not working,\\nthe file saving code not working, and me being unable to go to office hours due to my schedule, I am stopping to study for the midterm I have\\ntomorrow. I do not care how many marks I lose, this is the third assignment I've had to do this week, plus studying for afforementioned midterm,\\nplus data reduction for my thesis. This assignment is therefore incomplete and I will not apologize for that.\""
      ]
     },
     "execution_count": 316,
     "metadata": {},
     "output_type": "execute_result"
    }
   ],
   "source": [
    "\"\"\"I am stopping here and leaving this assignment as is. After 14 hours, it is not worth doing more. Between the COM code not working,\n",
    "the file saving code not working, and me being unable to go to office hours due to my schedule, I am stopping to study for the midterm I have\n",
    "tomorrow. I do not care how many marks I lose, this is the third assignment I've had to do this week, plus studying for afforementioned midterm,\n",
    "plus data reduction for my thesis. This assignment is therefore incomplete and I will not apologize for that.\"\"\""
   ]
  },
  {
   "cell_type": "code",
   "execution_count": 318,
   "metadata": {},
   "outputs": [
    {
     "data": {
      "text/plain": [
       "\"I appreciate the extra 3 hours I got to try to work on the code, but I am done. Thank you for the extension. I tried to write more code and\\nmanaged to get the file saving portion working but the new code now needs to be debugged plus whatever errors I made over the previous 14 hours of\\nwork. I could spend the next 5 or so hours debugging, answering the questions, and writing comments, but I am running on 5 energy drinks and 4 hours of\\nsleep. As of 8:30 I haven't even eaten today because I've been working on this assignment since I got home. Apologies for the rant, but I have to go do\\ndata reduction for my honours thesis so that my advisor doesn't get mad at me.\""
      ]
     },
     "execution_count": 318,
     "metadata": {},
     "output_type": "execute_result"
    }
   ],
   "source": [
    "# 03/27/2025 UPDATE\n",
    "\"\"\"I appreciate the extra 3 hours I got to try to work on the code, but I am done. Thank you for the extension. I tried to write more code and\n",
    "managed to get the file saving portion working but the new code now needs to be debugged plus whatever errors I made over the previous 14 hours of\n",
    "work. I could spend the next 5 or so hours debugging, answering the questions, and writing comments, but I am running on 5 energy drinks and 4 hours of\n",
    "sleep. As of 8:30 I haven't even eaten today because I've been working on this assignment since I got home. Apologies for the rant, but I have to go do\n",
    "data reduction for my honours thesis so that my advisor doesn't get mad at me.\"\"\""
   ]
  },
  {
   "cell_type": "code",
   "execution_count": 320,
   "metadata": {},
   "outputs": [
    {
     "data": {
      "text/plain": [
       "\"Perhaps against my better judgement I decided to put 2 more hours into this assignment. I had to drive 80 m/h and almost got into a car crash to do\\nso but that doesnt matter. The loop does not work right. I've spent 2 hours looking at all my code over and over and over and over again. I don't get it.\\nMaybe I'm not cut out for this after all. Maybe I'm better off just giving up. This shame will surely hang over my head for the rest of my time here.\\nI am sorry to whoever is reading this.\""
      ]
     },
     "execution_count": 320,
     "metadata": {},
     "output_type": "execute_result"
    }
   ],
   "source": [
    "# 03/28/2025 UPDATE\n",
    "\"\"\"Perhaps against my better judgement I decided to put 2 more hours into this assignment. I had to drive 80 m/h and almost got into a car crash to do\n",
    "so but that doesnt matter. The loop does not work right. I've spent 2 hours looking at all my code over and over and over and over again. I don't get it.\n",
    "Maybe I'm not cut out for this after all. Maybe I'm better off just giving up. This shame will surely hang over my head for the rest of my time here.\n",
    "I am sorry to whoever is reading this.\"\"\""
   ]
  }
 ],
 "metadata": {
  "kernelspec": {
   "display_name": "Python 3 (ipykernel)",
   "language": "python",
   "name": "python3"
  },
  "language_info": {
   "codemirror_mode": {
    "name": "ipython",
    "version": 3
   },
   "file_extension": ".py",
   "mimetype": "text/x-python",
   "name": "python",
   "nbconvert_exporter": "python",
   "pygments_lexer": "ipython3",
   "version": "3.12.4"
  },
  "varInspector": {
   "cols": {
    "lenName": 16,
    "lenType": 16,
    "lenVar": 40
   },
   "kernels_config": {
    "python": {
     "delete_cmd_postfix": "",
     "delete_cmd_prefix": "del ",
     "library": "var_list.py",
     "varRefreshCmd": "print(var_dic_list())"
    },
    "r": {
     "delete_cmd_postfix": ") ",
     "delete_cmd_prefix": "rm(",
     "library": "var_list.r",
     "varRefreshCmd": "cat(var_dic_list()) "
    }
   },
   "types_to_exclude": [
    "module",
    "function",
    "builtin_function_or_method",
    "instance",
    "_Feature"
   ],
   "window_display": false
  }
 },
 "nbformat": 4,
 "nbformat_minor": 4
}
