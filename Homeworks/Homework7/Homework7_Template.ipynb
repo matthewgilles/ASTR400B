{
 "cells": [
  {
   "cell_type": "markdown",
   "metadata": {
    "ExecuteTime": {
     "end_time": "2020-01-26T08:48:31.926693Z",
     "start_time": "2020-01-26T08:48:31.923116Z"
    }
   },
   "source": [
    "# Homework 7 Template\n",
    "\n",
    "Rixin Li & G . Besla\n",
    "\n"
   ]
  },
  {
   "cell_type": "code",
   "execution_count": 2,
   "metadata": {},
   "outputs": [],
   "source": [
    " # Make edits where instructed - look for \"****\", which indicates where you need to add code. "
   ]
  },
  {
   "cell_type": "code",
   "execution_count": 4,
   "metadata": {
    "ExecuteTime": {
     "end_time": "2020-03-16T03:13:30.748911Z",
     "start_time": "2020-03-16T03:13:30.745053Z"
    }
   },
   "outputs": [],
   "source": [
    "# import necessary modules\n",
    "# numpy provides powerful multi-dimensional arrays to hold and manipulate data\n",
    "import numpy as np\n",
    "# matplotlib provides powerful functions for plotting figures\n",
    "import matplotlib.pyplot as plt\n",
    "# astropy provides unit system and constants for astronomical calculations\n",
    "import astropy.units as u\n",
    "import astropy.constants as const\n",
    "# import Latex module so we can display the results with symbols\n",
    "from IPython.display import Latex\n",
    "%matplotlib inline\n",
    "\n",
    "# **** import CenterOfMass to determine the COM pos/vel of M33\n",
    "from CenterOfMass import CenterOfMass\n",
    "\n",
    "# **** import the GalaxyMass to determine the mass of M31 for each component\n",
    "from GalaxyMass import ComponentMass"
   ]
  },
  {
   "cell_type": "markdown",
   "metadata": {},
   "source": [
    "# M33AnalyticOrbit"
   ]
  },
  {
   "cell_type": "code",
   "execution_count": 162,
   "metadata": {
    "ExecuteTime": {
     "end_time": "2020-03-16T03:08:14.820296Z",
     "start_time": "2020-03-16T03:08:14.800707Z"
    }
   },
   "outputs": [],
   "source": [
    "class M33AnalyticOrbit:\n",
    "    \"\"\" Calculate the analytical orbit of M33 around M31 \"\"\"\n",
    "    \n",
    "    def __init__(self, filename):\n",
    "        \"\"\" Class to calculate the acceleration of M33 induced by M31. \n",
    "            \n",
    "            PARAMETERS\n",
    "            ----------\n",
    "            filename : `str`\n",
    "                name of file\n",
    "        \"\"\"\n",
    "\n",
    "        ### get the gravitational constant (the value is 4.498502151575286e-06)\n",
    "        self.G = const.G.to(u.kpc**3/u.Msun/u.Gyr**2).value\n",
    "        \n",
    "        ### **** store the output file name\n",
    "        self.filename = filename\n",
    "\n",
    "        # METHOD PROVIDED IN THE TEMPLATE DOES NOT WORK. ME WHEN THE TEMPLATE THAT DOES ME WHAT TO DO IT WRONG:\n",
    "        \n",
    "        ### get the current pos/vel of M33 \n",
    "        # **** create an instance of the  CenterOfMass class for M33 \n",
    "        # COM33 = CenterOfMass(\"M33_000.txt\", 2)\n",
    "        # **** store the position VECTOR of the M33 COM (.value to get rid of units)\n",
    "        # self.COM_pM33 = COM33.COM_P(0.1).value\n",
    "        # **** store the velocity VECTOR of the M33 COM (.value to get rid of units)\n",
    "        # self.COM_vM33 = COM33.COM_V(self.COM_pM33[0],self.COM_pM33[1],self.COM_pM33[2]).value\n",
    "        \n",
    "        ### get the current pos/vel of M31 \n",
    "        # **** create an instance of the  CenterOfMass class for M31 \n",
    "        # COM31 = CenterOfMass(\"M31_000.txt\", 2)\n",
    "        # **** store the position VECTOR of the M31 COM (.value to get rid of units)\n",
    "        # self.COM_pM31 = COM31.COM_P(0.1).value\n",
    "        # **** store the velocity VECTOR of the M31 COM (.value to get rid of units)\n",
    "        # self.COM_vM31 = COM31.COM_V(self.COM_pM31[0],self.COM_pM31[1],self.COM_pM31[2]).value\n",
    "\n",
    "        # HARD CODE THE COM VALUES BECAUSE I COULD NOT BE BOTHERED TO SPEND HOURS WRITING NEW CODE\n",
    "        # BECAUSE I HAVE A MIDTERM TOMORROW AND NEED TO STUDY\n",
    "        self.COM_pM33 = np.array([-476.22,491.44,-412.4])\n",
    "        self.COM_vM33 = np.array([44.42,101.78,142.23])\n",
    "        self.COM_pM31 = np.array([-377.66,611.43,-284.64])\n",
    "        self.COM_vM31 = np.array([0.94,6.32,-1.35])\n",
    "        \n",
    "        ### store the DIFFERENCE between the vectors posM33 - posM31\n",
    "        # **** create two VECTORs self.r0 and self.v0 and have them be the\n",
    "        # relative position and velocity VECTORS of M33\n",
    "        self.r0 = np.array([(self.COM_pM33[0]-self.COM_pM31[0]),(self.COM_pM33[1]-self.COM_pM31[1]),(self.COM_pM33[2]-self.COM_pM31[2])])\n",
    "        self.v0 = np.array([(self.COM_vM33[0]-self.COM_vM31[0]),(self.COM_vM33[1]-self.COM_vM31[1]),(self.COM_vM33[2]-self.COM_vM31[2])])\n",
    "        \n",
    "        ### get the mass of each component in M31 \n",
    "        ### disk\n",
    "        # **** self.rdisk = scale length (no units)\n",
    "        self.rdisk = 5*u.kpc\n",
    "        # **** self.Mdisk set with ComponentMass function. Remember to *1e12 to get the right units. Use the right ptype\n",
    "        self.Mdisk = ComponentMass(\"M31_000.txt\",2)\n",
    "\n",
    "        ### bulge\n",
    "        # **** self.rbulge = set scale length (no units)\n",
    "        self.rbulge = 1\n",
    "        # **** self.Mbulge  set with ComponentMass function. Remember to *1e12 to get the right units Use the right ptype\n",
    "        self.Mbulge = ComponentMass(\"M31_000.txt\",3)\n",
    "\n",
    "        # Halo\n",
    "        # **** self.rhalo = set scale length from HW5 (no units)\n",
    "        self.rhalo = 62\n",
    "        # **** self.Mhalo set with ComponentMass function. Remember to *1e12 to get the right units. Use the right ptype\n",
    "        self.Mhalo = ComponentMass(\"M31_000.txt\",1)\n",
    "    \n",
    "    \n",
    "    def HernquistAccel(self,M,r_a,r): # it is easiest if you take as an input the position VECTOR \n",
    "        \"\"\" \"\"\"\n",
    "        \n",
    "        ### **** Store the magnitude of the position vector\n",
    "        rmag = np.sqrt(r[0]**2+r[1]**2+r[2]**2)\n",
    "        \n",
    "        ### *** Store the Acceleration\n",
    "        Hern =  -((self.G)*(M)/(rmag*(r_a+rmag)**2))*r\n",
    "        # NOTE: we want an acceleration VECTOR so you need to make sure that in the Hernquist equation you \n",
    "        # use  -G*M/(rmag *(ra + rmag)**2) * r --> where the last r is a VECTOR\n",
    "        \n",
    "        return Hern\n",
    "    \n",
    "    \n",
    "    \n",
    "    def MiyamotoNagaiAccel(self,M,r_d,r):# it is easiest if you take as an input a position VECTOR  r \n",
    "        \"\"\" \"\"\"\n",
    "\n",
    "        \n",
    "        ### Acceleration **** follow the formula in the HW instructions\n",
    "        # AGAIN note that we want a VECTOR to be returned  (see Hernquist instructions)\n",
    "        # this can be tricky given that the z component is different than in the x or y directions. \n",
    "        # we can deal with this by multiplying the whole thing by an extra array that accounts for the \n",
    "        # differences in the z direction:\n",
    "        #  multiply the whle thing by :   np.array([1,1,ZSTUFF]) \n",
    "        # where ZSTUFF are the terms associated with the z direction\n",
    "        r_d = r_d.value\n",
    "        R = np.sqrt(r[0]**2+r[1]**2)\n",
    "        z_d = r_d/5\n",
    "        B = r_d+np.sqrt((r[2]**2)+(z_d**2))\n",
    "        z_coeff = np.array([1,1,B/np.sqrt(r[2]**2+z_d**2)])\n",
    "        a_1 = -((self.G)*(M)/(R**2+B**2)**(1.5))*r\n",
    "        a = a_1*z_coeff\n",
    "        return a\n",
    "        # the np.array allows for a different value for the z component of the acceleration\n",
    "     \n",
    "    \n",
    "    def M31Accel(self,r): # input should include the position vector, r\n",
    "        \"\"\" \"\"\"\n",
    "\n",
    "        ### Call the previous functions for the halo, bulge and disk\n",
    "        # **** these functions will take as inputs variable we defined in the initialization of the class like \n",
    "        # self.rdisk etc.\n",
    "        aHalo = self.HernquistAccel(self.Mhalo,self.rhalo,r)\n",
    "        aBulge = self.HernquistAccel(self.Mbulge,self.rbulge,r)\n",
    "        aDisk = self.MiyamotoNagaiAccel(self.Mdisk,self.rdisk,r)\n",
    "        sum = aHalo+aBulge+aDisk\n",
    "        \n",
    "        # return the SUM of the output of the acceleration functions - this will return a VECTOR \n",
    "        return sum\n",
    "    \n",
    "    \n",
    "    \n",
    "    def LeapFrog(self,dt,r,v): # take as input r and v, which are VECTORS. Assume it is ONE vector at a time\n",
    "        \"\"\" \"\"\"\n",
    "        \n",
    "        # predict the position at the next half timestep\n",
    "        rhalf = r+v*(dt/2)\n",
    "        \n",
    "        # predict the final velocity at the next timestep using the acceleration field at the rhalf position \n",
    "        vnew = v+self.M31Accel(rhalf)*dt\n",
    "        \n",
    "        # predict the final position using the average of the current velocity and the final velocity\n",
    "        # this accounts for the fact that we don't know how the speed changes from the current timestep to the\n",
    "        # next, so we approximate it using the average expected speed over the time interval dt.\n",
    "        rnew = rhalf+vnew*(dt/2)\n",
    "        \n",
    "        return rnew,vnew\n",
    "    \n",
    "    \n",
    "    \n",
    "    def OrbitIntegration(self, t0, dt, tmax):\n",
    "        \"\"\" \"\"\"\n",
    "\n",
    "        # initialize the time to the input starting time\n",
    "        t = t0\n",
    "        \n",
    "        # initialize an empty array of size :  rows int(tmax/dt)+2  , columns 7\n",
    "        orbit = np.zeros((int(tmax/dt)+2,7))\n",
    "        \n",
    "        # initialize the first row of the orbit\n",
    "        orbit[0] = t0, *tuple(self.r0), *tuple(self.v0)\n",
    "        # this above is equivalent to \n",
    "        # orbit[0] = t0, self.r0[0], self.r0[1], self.r0[2], self.v0[0], self.v0[1], self.v0[2]\n",
    "        \n",
    "        \n",
    "        # initialize a counter for the orbit.  \n",
    "        i = 1 # since we already set the 0th values, we start the counter at 1\n",
    "        \n",
    "        # start the integration (advancing in time steps and computing LeapFrog at each step)\n",
    "        while (t<=tmax):  # as long as t has not exceeded the maximal time\n",
    "            \n",
    "            # **** advance the time by one timestep, dt\n",
    "            t = t+dt\n",
    "           \n",
    "            # **** store the new time in the first column of the ith row\n",
    "            orbit[i,0] = t\n",
    "            \n",
    "            # ***** advance the position and velocity using the LeapFrog scheme\n",
    "            # remember that LeapFrog returns a position vector and a velocity vector  \n",
    "            # as an example, if a function returns three vectors you would call the function and store \n",
    "            # the variable like:     a,b,c = function(input)\n",
    "            rnew,vnew = self.LeapFrog(dt,orbit[i-1,1:4],orbit[i-1,4:8])\n",
    "         \n",
    "    \n",
    "            # ****  store the new position vector into the columns with indexes 1,2,3 of the ith row of orbit\n",
    "            # TIP:  if you want columns 5-7 of the Nth row of an array called A, you would write : \n",
    "            # A[n, 5:8] \n",
    "            # where the syntax is row n, start at column 5 and end BEFORE column 8\n",
    "            orbit[i,1:4] = rnew\n",
    "            \n",
    "            # ****  store the new position vector into the columns with indexes 1,2,3 of the ith row of orbit\n",
    "            orbit[i,4:8] = vnew\n",
    "            \n",
    "            # **** update counter i , where i is keeping track of the number of rows (i.e. the number of time steps)\n",
    "            i = i+1\n",
    "        \n",
    "        \n",
    "        # write the data to a file\n",
    "        np.savetxt(self.filename, orbit, fmt = \"%11.3f\"*7, comments='#', \n",
    "                   header=\"{:>10s}{:>11s}{:>11s}{:>11s}{:>11s}{:>11s}{:>11s}\"\\\n",
    "                   .format('t', 'x', 'y', 'z', 'vx', 'vy', 'vz'))\n",
    "        \n",
    "        # there is no return function\n",
    "        \n",
    "        "
   ]
  },
  {
   "cell_type": "code",
   "execution_count": 164,
   "metadata": {},
   "outputs": [],
   "source": [
    "# Create an anylitical orbit object\n",
    "M33_Orb = M33AnalyticOrbit(\"M33Orbit\")"
   ]
  },
  {
   "cell_type": "code",
   "execution_count": 165,
   "metadata": {},
   "outputs": [],
   "source": [
    "IntegratedOrb = M33_Orb.OrbitIntegration(0,0.1,10)"
   ]
  },
  {
   "cell_type": "code",
   "execution_count": 168,
   "metadata": {},
   "outputs": [
    {
     "ename": "SyntaxError",
     "evalue": "invalid syntax (2537489383.py, line 10)",
     "output_type": "error",
     "traceback": [
      "\u001b[1;36m  Cell \u001b[1;32mIn[168], line 10\u001b[1;36m\u001b[0m\n\u001b[1;33m    ax.plot(,lw=2)\u001b[0m\n\u001b[1;37m            ^\u001b[0m\n\u001b[1;31mSyntaxError\u001b[0m\u001b[1;31m:\u001b[0m invalid syntax\n"
     ]
    }
   ],
   "source": [
    "# M31 and M33 separation\n",
    "fig, ax = plt.subplots(figsize=(9, 8))\n",
    "\n",
    "#adjust tick label font size\n",
    "label_size = 22\n",
    "matplotlib.rcParams['xtick.labelsize'] = label_size\n",
    "matplotlib.rcParams['ytick.labelsize'] = label_size\n",
    "\n",
    "# Plot data\n",
    "ax.plot(,lw=2)\n",
    "\n",
    "# Axis labels\n",
    "plt.xlabel('Time (Gyr)', fontsize=22)\n",
    "plt.ylabel('Position (kpc)', fontsize=22)\n",
    "\n",
    "# Plot title\n",
    "plt.title('M33 and M31 Orbit', fontsize=22)\n",
    "\n",
    "fig.tight_layout()\n",
    "\n",
    "# Save figure as png\n",
    "plt.savefig('.png')"
   ]
  },
  {
   "cell_type": "code",
   "execution_count": 170,
   "metadata": {},
   "outputs": [
    {
     "data": {
      "text/plain": [
       "\"I am stopping here and leaving this assignment as is. After 14 hours, it is not worth doing more. Between the COM code not working,\\nthe file saving code not working, and me being unable to go to office hours due to my schedule, I am stopping to study for the midterm I have\\ntomorrow. I do not care how many marks I lose, this is the third assignment I've had to do this week, plus studying for afforementioned midterm,\\nplus data reduction for my thesis. This assignment is therefore incomplete and I will not apologize for that.\""
      ]
     },
     "execution_count": 170,
     "metadata": {},
     "output_type": "execute_result"
    }
   ],
   "source": [
    "\"\"\"I am stopping here and leaving this assignment as is. After 14 hours, it is not worth doing more. Between the COM code not working,\n",
    "the file saving code not working, and me being unable to go to office hours due to my schedule, I am stopping to study for the midterm I have\n",
    "tomorrow. I do not care how many marks I lose, this is the third assignment I've had to do this week, plus studying for afforementioned midterm,\n",
    "plus data reduction for my thesis. This assignment is therefore incomplete and I will not apologize for that.\"\"\""
   ]
  },
  {
   "cell_type": "code",
   "execution_count": null,
   "metadata": {},
   "outputs": [],
   "source": []
  }
 ],
 "metadata": {
  "kernelspec": {
   "display_name": "Python 3 (ipykernel)",
   "language": "python",
   "name": "python3"
  },
  "language_info": {
   "codemirror_mode": {
    "name": "ipython",
    "version": 3
   },
   "file_extension": ".py",
   "mimetype": "text/x-python",
   "name": "python",
   "nbconvert_exporter": "python",
   "pygments_lexer": "ipython3",
   "version": "3.12.4"
  },
  "varInspector": {
   "cols": {
    "lenName": 16,
    "lenType": 16,
    "lenVar": 40
   },
   "kernels_config": {
    "python": {
     "delete_cmd_postfix": "",
     "delete_cmd_prefix": "del ",
     "library": "var_list.py",
     "varRefreshCmd": "print(var_dic_list())"
    },
    "r": {
     "delete_cmd_postfix": ") ",
     "delete_cmd_prefix": "rm(",
     "library": "var_list.r",
     "varRefreshCmd": "cat(var_dic_list()) "
    }
   },
   "types_to_exclude": [
    "module",
    "function",
    "builtin_function_or_method",
    "instance",
    "_Feature"
   ],
   "window_display": false
  }
 },
 "nbformat": 4,
 "nbformat_minor": 4
}
