{
 "cells": [
  {
   "cell_type": "markdown",
   "metadata": {},
   "source": [
    "# In Class Lab 1\n",
    "\n",
    "### Due by midnight, thursday in your github repository 'Labs/Lab1' folder\n"
   ]
  },
  {
   "cell_type": "code",
   "execution_count": 58,
   "metadata": {},
   "outputs": [],
   "source": [
    "# Import Modules \n",
    "import numpy as np # import numpy\n",
    "import astropy.units as u # import astropy units\n",
    "from astropy import constants as const # import astropy constants"
   ]
  },
  {
   "cell_type": "markdown",
   "metadata": {},
   "source": [
    "### Astropy Units:  https://docs.astropy.org/en/stable/units/index.html"
   ]
  },
  {
   "cell_type": "markdown",
   "metadata": {},
   "source": [
    "\n",
    "## Part A:  The Local Standard of Rest\n",
    "Proper motion of Sgr A* from Reid & Brunthaler 2004\n",
    "$\\mu = 6.379$ mas/yr \n",
    "\n",
    "Peculiar motion of the sun, $v_\\odot$ = 12.24 km/s  (Schonrich 2010)\n",
    "\n",
    "\n",
    "$v_{tan} = 4.74 \\frac{\\mu}{\\rm mas/yr} \\frac{R_o}{\\rm kpc} = V_{LSR} + v_\\odot$\n",
    "\n",
    "\n",
    "### a)\n",
    "\n",
    "Create a function called VLSR to compute the local standard of res (V$_{LSR}$).\n",
    "\n",
    "The function should take as input: the solar radius (R$_o$), the proper motion (mu)\n",
    "and the peculiar motion of the sun in the $v_\\odot$ direction.\n",
    "\n",
    "Compute V$_{LSR}$ using three different values R$_o$: \n",
    "1. Water Maser Distance for the Sun :  R$_o$ = 8.34 kpc   (Reid 2014 ApJ 783) \n",
    "2. GRAVITY Collaboration Distance for the Sun:  R$_o$ = 8.178 kpc   (Abuter+2019 A&A 625)\n",
    "3. Value for Distance to Sun listed in Sparke & Gallagher : R$_o$ = 7.9 kpc \n"
   ]
  },
  {
   "cell_type": "code",
   "execution_count": 62,
   "metadata": {},
   "outputs": [],
   "source": [
    "# 4.74*mu*R0 = VLSR+vsun\n",
    "\n",
    "def VLSR(R0,mu=6.379,vsun=12.24*u.km/u.s):\n",
    "    \"\"\"This function will compute the velocity at the local standard of rest.\n",
    "    VLSR = 4.74*mu*R0-vsun\n",
    "    Inputs: \n",
    "        R0 (astropy units kpc) - Distance from the sun to the galactic centre.\n",
    "        mu is the proper motion of Sag A* (mas/yr); default is from Reid and Brunthaler 2004.\n",
    "        vsun (astropy units km/s) - The peculiar motion of the sun in the v direction (Schonrich+2010)\n",
    "    Outputs:\n",
    "        VSLR (astropy units km/s) - The local standard of rest\"\"\"\n",
    "    VLSR = 4.74*mu*(R0/u.kpc)*u.km/u.s-vsun\n",
    "    return VLSR"
   ]
  },
  {
   "cell_type": "code",
   "execution_count": 64,
   "metadata": {},
   "outputs": [],
   "source": [
    "# Different values of the distance to the Galactic Centre\n",
    "R0Reid = 8.34*u.kpc #Reid + 2014\n",
    "R0Abuter = 8.178*u.kpc #GRAVITY + 2019\n",
    "R0Sparke = 7.9*u.kpc #Sparke & Gallagher Text"
   ]
  },
  {
   "cell_type": "code",
   "execution_count": 66,
   "metadata": {},
   "outputs": [
    {
     "name": "stdout",
     "output_type": "stream",
     "text": [
      "239.9320764 km / s\n"
     ]
    },
    {
     "data": {
      "text/latex": [
       "$239.93208 \\; \\mathrm{\\frac{km}{s}}$"
      ],
      "text/plain": [
       "<Quantity 239.9320764 km / s>"
      ]
     },
     "execution_count": 66,
     "metadata": {},
     "output_type": "execute_result"
    }
   ],
   "source": [
    "# Compute VLSR using Reid 2014\n",
    "VLSR_Reid = VLSR(R0Reid)\n",
    "print(VLSR_Reid)\n",
    "VLSR_Reid"
   ]
  },
  {
   "cell_type": "code",
   "execution_count": 68,
   "metadata": {},
   "outputs": [
    {
     "name": "stdout",
     "output_type": "stream",
     "text": [
      "235.03376988000002 km / s\n"
     ]
    },
    {
     "data": {
      "text/latex": [
       "$235.03377 \\; \\mathrm{\\frac{km}{s}}$"
      ],
      "text/plain": [
       "<Quantity 235.03376988 km / s>"
      ]
     },
     "execution_count": 68,
     "metadata": {},
     "output_type": "execute_result"
    }
   ],
   "source": [
    "# Compute VLSR using GRAVITY collab\n",
    "VLSR_Abuter = VLSR(R0Abuter)\n",
    "print(VLSR_Abuter)\n",
    "VLSR_Abuter"
   ]
  },
  {
   "cell_type": "code",
   "execution_count": 70,
   "metadata": {},
   "outputs": [
    {
     "name": "stdout",
     "output_type": "stream",
     "text": [
      "226.628034 km / s\n"
     ]
    },
    {
     "data": {
      "text/latex": [
       "$226.62803 \\; \\mathrm{\\frac{km}{s}}$"
      ],
      "text/plain": [
       "<Quantity 226.628034 km / s>"
      ]
     },
     "execution_count": 70,
     "metadata": {},
     "output_type": "execute_result"
    }
   ],
   "source": [
    "# Compute VLSR using Sparke and Gallagher\n",
    "VLSR_Sparke = VLSR(R0Sparke)\n",
    "print(VLSR_Sparke)\n",
    "VLSR_Sparke"
   ]
  },
  {
   "cell_type": "markdown",
   "metadata": {},
   "source": [
    "### b)\n",
    "\n",
    "compute the orbital period of the sun in Gyr using R$_o$ from the GRAVITY Collaboration (assume circular orbit)\n",
    "\n",
    "Note that 1 km/s $\\sim$ 1kpc/Gyr"
   ]
  },
  {
   "cell_type": "code",
   "execution_count": 73,
   "metadata": {},
   "outputs": [],
   "source": [
    "# orbital period = 2piR/v\n",
    "def TorbSun(R0,vc):\n",
    "    \"\"\"This is a function that computes the orbital period of the sun.\n",
    "    T = 2piR/v\n",
    "    Inputs: \n",
    "        R0 (astropy units kpc) - Distance from the sun to the galactic centre. (float)\n",
    "        vc (astropy units km/s) - Velocity of the sun in the v direction. (float)\n",
    "    Outputs:\n",
    "        T (astropy units Gyr) - Orbital period.\"\"\"\n",
    "    vkpcGyr = vc.to(u.kpc/u.Gyr) #Converting v to kpc/Gyr\n",
    "    T = 2*np.pi*R0/vkpcGyr #Orbital period\n",
    "    return T"
   ]
  },
  {
   "cell_type": "code",
   "execution_count": 75,
   "metadata": {},
   "outputs": [],
   "source": [
    "vsunPec = 12.24*u.km/u.s #Peculiar motion"
   ]
  },
  {
   "cell_type": "code",
   "execution_count": 77,
   "metadata": {},
   "outputs": [],
   "source": [
    "vsun = VLSR_Abuter+vsunPec #Total motion of the sun in the v direction"
   ]
  },
  {
   "cell_type": "code",
   "execution_count": 79,
   "metadata": {},
   "outputs": [
    {
     "name": "stdout",
     "output_type": "stream",
     "text": [
      "0.20318680562272234 Gyr\n"
     ]
    },
    {
     "data": {
      "text/latex": [
       "$0.20318681 \\; \\mathrm{Gyr}$"
      ],
      "text/plain": [
       "<Quantity 0.20318681 Gyr>"
      ]
     },
     "execution_count": 79,
     "metadata": {},
     "output_type": "execute_result"
    }
   ],
   "source": [
    "#Orbital period of the sun\n",
    "T_Abuter = TorbSun(R0Abuter,vsun)\n",
    "print(T_Abuter)\n",
    "T_Abuter"
   ]
  },
  {
   "cell_type": "markdown",
   "metadata": {},
   "source": [
    "### c)\n",
    "\n",
    "Compute the number of rotations about the GC over the age of the universe (13.8 Gyr)"
   ]
  },
  {
   "cell_type": "code",
   "execution_count": 82,
   "metadata": {},
   "outputs": [
    {
     "name": "stdout",
     "output_type": "stream",
     "text": [
      "67.91779593023313\n"
     ]
    }
   ],
   "source": [
    "AgeUni = 13.8*u.Gyr\n",
    "print(AgeUni/T_Abuter)"
   ]
  },
  {
   "cell_type": "markdown",
   "metadata": {},
   "source": [
    "## Part B  Dark Matter Density Profiles\n",
    "\n",
    "### a)\n",
    "Try out Fitting Rotation Curves \n",
    "[here](http://wittman.physics.ucdavis.edu/Animations/RotationCurve/GalacticRotation.html)\n",
    "\n",
    "\n",
    "### b)\n",
    "\n",
    "\n",
    "In the Isothermal Sphere model, what is the mass enclosed within the solar radius (R$_o$) in units of M$_\\odot$? \n",
    "\n",
    "Recall that for the Isothermal sphere :\n",
    "$\\rho(r) = \\frac{V_{LSR}^2}{4\\pi G r^2}$\n",
    "\n",
    "Where $G$ = 4.4985e-6 kpc$^3$/Gyr$^2$/M$_\\odot$, r is in kpc and $V_{LSR}$ is in km/s\n",
    "\n",
    "What about at 260 kpc (in units of  M$_\\odot$) ? "
   ]
  },
  {
   "cell_type": "code",
   "execution_count": 85,
   "metadata": {},
   "outputs": [
    {
     "name": "stdout",
     "output_type": "stream",
     "text": [
      "  Name   = Gravitational constant\n",
      "  Value  = 6.6743e-11\n",
      "  Uncertainty  = 1.5e-15\n",
      "  Unit  = m3 / (kg s2)\n",
      "  Reference = CODATA 2018\n"
     ]
    }
   ],
   "source": [
    "print(const.G)"
   ]
  },
  {
   "cell_type": "code",
   "execution_count": 87,
   "metadata": {},
   "outputs": [
    {
     "name": "stdout",
     "output_type": "stream",
     "text": [
      "4.498502151469554e-06 kpc3 / (solMass Gyr2)\n"
     ]
    },
    {
     "data": {
      "text/latex": [
       "$4.4985022 \\times 10^{-6} \\; \\mathrm{\\frac{kpc^{3}}{M_{\\odot}\\,Gyr^{2}}}$"
      ],
      "text/plain": [
       "<Quantity 4.49850215e-06 kpc3 / (solMass Gyr2)>"
      ]
     },
     "execution_count": 87,
     "metadata": {},
     "output_type": "execute_result"
    }
   ],
   "source": [
    "Grav = const.G.to(u.kpc**3/u.Gyr**2/u.Msun)\n",
    "print(Grav)\n",
    "Grav"
   ]
  },
  {
   "cell_type": "code",
   "execution_count": 89,
   "metadata": {},
   "outputs": [],
   "source": [
    "#Density profile rho = VLSR^2/(4*pi*G*R^2)\n",
    "#Mass(r) = integrate rho dV\n",
    "#Integrate rho 4*pi*r^2*dr\n",
    "#Integrate VLSR^2/(4*pi*G*r^2)*4*pi*r^2*dr\n",
    "#Integrate VLSR^2/G * dr\n",
    "#VLSR^2/G*r\n",
    "def massIso(r,VLSR):\n",
    "    \"\"\"This function will compute the dark matter mass enclosed within a given distance, r, assuming isothermal shpere model.\n",
    "    M(r) = VLSR^2/G*r\n",
    "    Inputs:\n",
    "        r (astropy units kpc) - Distance from the Galactic Centre.\n",
    "        VLSR (astropy units km/s) - The velocity at the Local Standard of Rest.\n",
    "    Outputs:\n",
    "        M (astropy units Msun) - Mass enclosed within r.\"\"\"\n",
    "    VLSRkpcGyr = VLSR.to(u.kpc/u.Gyr) #change units\n",
    "    M = VLSRkpcGyr**2/Grav*r #Isothermal sphere mass prophile\n",
    "    return M"
   ]
  },
  {
   "cell_type": "code",
   "execution_count": 91,
   "metadata": {},
   "outputs": [
    {
     "name": "stdout",
     "output_type": "stream",
     "text": [
      "1.05e+11 solMass\n"
     ]
    }
   ],
   "source": [
    "#Compute the mass enclosed within R0 (GRAVITY collab)\n",
    "mIsoSol = massIso(R0Abuter,VLSR_Abuter)\n",
    "print(f\"{mIsoSol:.2e}\")"
   ]
  },
  {
   "cell_type": "code",
   "execution_count": 93,
   "metadata": {},
   "outputs": [],
   "source": [
    "#Compute the "
   ]
  },
  {
   "cell_type": "markdown",
   "metadata": {},
   "source": [
    "## c) \n",
    "\n",
    "The Leo I satellite is one of the fastest moving satellite galaxies we know. \n",
    "\n",
    "\n",
    "It is moving with 3D velocity of magnitude: Vtot = 196 km/s at a distance of 260 kpc (Sohn 2013 ApJ 768)\n",
    "\n",
    "If we assume that Leo I is moving at the escape speed:\n",
    "\n",
    "$v_{esc}^2 = 2|\\Phi| = 2 \\int G \\frac{\\rho(r)}{r}dV $ \n",
    "\n",
    "and assuming the Milky Way is well modeled by a Hernquist Sphere with a scale radius of $a$= 30 kpc, what is the minimum mass of the Milky Way (in units of M$_\\odot$) ?  \n",
    "\n",
    "How does this compare to estimates of the mass assuming the Isothermal Sphere model at 260 kpc (from your answer above)"
   ]
  },
  {
   "cell_type": "code",
   "execution_count": 102,
   "metadata": {},
   "outputs": [],
   "source": [
    "#Potential for the Hernquist Sphere\n",
    "#Phi = -G*M/(r+a)\n",
    "#Escape speed becomes\n",
    "#vesc**2 = 2*G*M/(r+a)\n",
    "#Rearrange for M\n",
    "#M = vesc**2/2/G*(r+a)\n",
    "def massHernVesc(vesc,r,a=30*u.kpc):\n",
    "    \"\"\"This function determines the total dark matter mass needed given an escape speed, assuming a Hernquist profile.\n",
    "    M = vesc**2/2/G*(r+a)\n",
    "    Inputs:\n",
    "        vesc (astropy units in km/s) - The escape speed.\n",
    "        r (astropy units in kpc) - Distance from the Galactic Centre.\n",
    "        a (astropy units in kpc) - The Hernquist Scale Length, default value = 30kpc.\n",
    "    Outputs:\n",
    "        M (astropy units in Msun) - The mass within r.\"\"\"\n",
    "    vesckpcGyr = vesc.to(u.kpc/u.Gyr) #convert to kpc/Gyr\n",
    "    M = vesckpcGyr**2/2/Grav*(r+a)\n",
    "    return M"
   ]
  },
  {
   "cell_type": "code",
   "execution_count": 104,
   "metadata": {},
   "outputs": [],
   "source": [
    "Vleo = 196*u.km/u.s #speed of Leo I (Sohn et al.)\n",
    "r = 260*u.kpc"
   ]
  },
  {
   "cell_type": "code",
   "execution_count": 106,
   "metadata": {},
   "outputs": [
    {
     "name": "stdout",
     "output_type": "stream",
     "text": [
      "1.30e+12 solMass\n"
     ]
    }
   ],
   "source": [
    "MLeoI = massHernVesc(Vleo,r)\n",
    "print(f\"{MLeoI:.2e}\")"
   ]
  },
  {
   "cell_type": "code",
   "execution_count": null,
   "metadata": {},
   "outputs": [],
   "source": []
  }
 ],
 "metadata": {
  "kernelspec": {
   "display_name": "Python 3 (ipykernel)",
   "language": "python",
   "name": "python3"
  },
  "language_info": {
   "codemirror_mode": {
    "name": "ipython",
    "version": 3
   },
   "file_extension": ".py",
   "mimetype": "text/x-python",
   "name": "python",
   "nbconvert_exporter": "python",
   "pygments_lexer": "ipython3",
   "version": "3.12.4"
  }
 },
 "nbformat": 4,
 "nbformat_minor": 4
}
